{
 "cells": [
  {
   "cell_type": "markdown",
   "metadata": {},
   "source": [
    "# Panel library examples\n",
    "\n",
    "Creating dashboards\n",
    "[https://panel.pyviz.org/index.html]"
   ]
  },
  {
   "cell_type": "code",
   "execution_count": null,
   "metadata": {},
   "outputs": [],
   "source": [
    "import io\n",
    "import numpy as np\n",
    "import pandas as pd\n",
    "import holoviews as hv\n",
    "import hvplot.pandas\n",
    "import param\n",
    "import panel as pn\n",
    "\n",
    "css = '''\n",
    ".widget-box {\n",
    "  color: #ff0000;\n",
    "  background: #f0f0f0;\n",
    "  border-radius: 5px;\n",
    "  border: 1px black solid;\n",
    "}\n",
    "'''\n",
    "pn.extension(raw_css=[css])"
   ]
  },
  {
   "cell_type": "code",
   "execution_count": null,
   "metadata": {},
   "outputs": [],
   "source": [
    "pn.__version__"
   ]
  },
  {
   "cell_type": "code",
   "execution_count": null,
   "metadata": {},
   "outputs": [],
   "source": [
    "\n",
    "tap = hv.streams.PointerX(x=0)\n",
    "\n",
    "\n",
    "def hvplot2(df, frequency, **kwargs):\n",
    "    plot = df.hvplot(width=500, padding=(0, 0.1))\n",
    "    tap.source = plot\n",
    "\n",
    "    def unit_circle(x):\n",
    "        cx       = np.cos(x*frequency)\n",
    "        sx       = np.sin(x*frequency)\n",
    "        circle   = hv.Path([ hv.Ellipse(0,0,2),  [(-1,0), (1,0)],  [(0,-1), (0,1)]]).opts(color='black')\n",
    "        triangle = hv.Path([ [(0,0), (cx,sx)],   [(0,0), (cx,0)],  [(cx,0), (cx,sx)]]).opts(color='red', line_width=2)\n",
    "        labels   = hv.Labels([(cx/2, 0, '%.2f' % cx), (cx, sx/2., '%.2f' % sx)])\n",
    "        labels   = labels.opts(padding=0.1, xaxis=None, yaxis=None, text_baseline='bottom')\n",
    "        return (circle * triangle * labels)\n",
    "\n",
    "    vline  = hv.DynamicMap(hv.VLine,    streams=[tap]).opts(color='black')\n",
    "    circle = hv.DynamicMap(unit_circle, streams=[tap])\n",
    "\n",
    "    return (plot * vline + circle).opts(toolbar=\"right\")\n",
    "\n",
    "def sine(frequency=1.0, amplitude=1.0, n=200, view_fn=hvplot2):\n",
    "    xs = np.arange(n)/n*20.0\n",
    "    ys = amplitude*np.sin(frequency*xs)\n",
    "    df = pd.DataFrame(dict(y=ys), index=xs)\n",
    "    return view_fn(df, frequency=frequency, amplitude=amplitude, n=n)\n",
    "\n",
    "\n",
    "unit_curve = pn.interact(sine, view_fn=hvplot2, n=(1, 200), frequency=(0, 10.))\n",
    "\n",
    "pn.Column(pn.Row('# The Unit Circle', pn.Spacer(width=45), unit_curve[0][0], unit_curve[0][2]),\n",
    "          unit_curve[1],css_classes=['widget-box'])"
   ]
  },
  {
   "cell_type": "markdown",
   "metadata": {},
   "source": [
    "# Widgets"
   ]
  },
  {
   "cell_type": "markdown",
   "metadata": {},
   "source": [
    "## Text input"
   ]
  },
  {
   "cell_type": "code",
   "execution_count": null,
   "metadata": {},
   "outputs": [],
   "source": [
    "widget = pn.widgets.TextInput(name='A widget', value='A string',css_classes=['widget-box'])\n",
    "#widget.background = 'black'\n",
    "widget"
   ]
  },
  {
   "cell_type": "code",
   "execution_count": null,
   "metadata": {},
   "outputs": [],
   "source": [
    "widget.value"
   ]
  },
  {
   "cell_type": "markdown",
   "metadata": {},
   "source": [
    "## Autocompleter"
   ]
  },
  {
   "cell_type": "code",
   "execution_count": null,
   "metadata": {},
   "outputs": [],
   "source": [
    "opt_list = ['fred','george','harold'] +['parameter %i' % n for n in range(10)]\n",
    "com = pn.widgets.AutocompleteInput(name='Autocompleter',options=opt_list,placeholder='Enter text here',\n",
    "                                   css_classes=['widget-box'])\n",
    "com"
   ]
  },
  {
   "cell_type": "code",
   "execution_count": null,
   "metadata": {},
   "outputs": [],
   "source": [
    "column = pn.Column('# A title', com,widget)\n",
    "column"
   ]
  },
  {
   "cell_type": "markdown",
   "metadata": {},
   "source": [
    "## File selector"
   ]
  },
  {
   "cell_type": "code",
   "execution_count": null,
   "metadata": {},
   "outputs": [],
   "source": [
    "file_selector = pn.widgets.FileInput(name='Load file',css_classes=['widget-box'])\n",
    "file_selector"
   ]
  },
  {
   "cell_type": "code",
   "execution_count": null,
   "metadata": {},
   "outputs": [],
   "source": [
    "file_selector.mime_type"
   ]
  },
  {
   "cell_type": "code",
   "execution_count": null,
   "metadata": {},
   "outputs": [],
   "source": [
    "file_selector.value.decode().splitlines()"
   ]
  },
  {
   "cell_type": "code",
   "execution_count": null,
   "metadata": {},
   "outputs": [],
   "source": [
    "file_selector.value"
   ]
  },
  {
   "cell_type": "code",
   "execution_count": null,
   "metadata": {},
   "outputs": [],
   "source": [
    "file_selector.core.filename"
   ]
  },
  {
   "cell_type": "markdown",
   "metadata": {},
   "source": [
    "# Read Excel data using file selector"
   ]
  },
  {
   "cell_type": "code",
   "execution_count": null,
   "metadata": {},
   "outputs": [],
   "source": [
    "file_selector"
   ]
  },
  {
   "cell_type": "code",
   "execution_count": null,
   "metadata": {},
   "outputs": [],
   "source": [
    "file_selector.mime_type"
   ]
  },
  {
   "cell_type": "code",
   "execution_count": null,
   "metadata": {},
   "outputs": [],
   "source": [
    "excel_file = io.BytesIO(file_selector.value)"
   ]
  },
  {
   "cell_type": "code",
   "execution_count": null,
   "metadata": {},
   "outputs": [],
   "source": [
    "df = pd.read_excel(excel_file)"
   ]
  },
  {
   "cell_type": "code",
   "execution_count": null,
   "metadata": {},
   "outputs": [],
   "source": [
    "df"
   ]
  },
  {
   "cell_type": "markdown",
   "metadata": {},
   "source": [
    "# Param based GUIs"
   ]
  },
  {
   "cell_type": "code",
   "execution_count": null,
   "metadata": {},
   "outputs": [],
   "source": [
    "class Example(param.Parameterized):\n",
    "    \"\"\"An example Parameterized class\"\"\"\n",
    "\n",
    "    boolean                 = param.Boolean(True, doc=\"A sample Boolean parameter\")\n",
    "    boolean2                = param.Boolean(False, doc=\"This boolean is going to be a button\")\n",
    "    \n",
    "    color                   = param.Color()\n",
    "    select_string           = param.ObjectSelector(default=\"yellow\", objects=[\"red\", \"yellow\", \"green\"])\n",
    "    select_fn               = param.ObjectSelector(default=list,objects=[list, set, dict])\n",
    "    int_list                = param.ListSelector(default=[3, 5], objects=[1, 3, 5, 7, 9], precedence=0.5)\n",
    "    single_file             = param.FileSelector(path='*.ipy*', precedence=0.5)\n",
    "    multiple_files          = param.MultiFileSelector(path='*.ipy*', precedence=0.5)"
   ]
  },
  {
   "cell_type": "code",
   "execution_count": null,
   "metadata": {},
   "outputs": [],
   "source": [
    "\n",
    "\n",
    "fs = Example()\n",
    "pn.Param(fs,widgets={'boolean2':{'type':pn.widgets.Toggle,'name':'Button','button_type':'success'}})\n",
    "#pn.Column(fs.param)\n",
    "\n"
   ]
  },
  {
   "cell_type": "code",
   "execution_count": null,
   "metadata": {},
   "outputs": [],
   "source": [
    "fs.single_file"
   ]
  },
  {
   "cell_type": "markdown",
   "metadata": {},
   "source": [
    "## File selector\n",
    "Using param"
   ]
  },
  {
   "cell_type": "code",
   "execution_count": null,
   "metadata": {},
   "outputs": [],
   "source": [
    "class FileSelector(param.Parameterized):\n",
    "    \"\"\"An example Parameterized File selector class\"\"\"\n",
    "\n",
    "    title        = param.String(default=\"Select File to open\", doc=\"A string\")\n",
    "    single_file  = param.FileSelector(path='*.ipy*') \n",
    "    button       = param.Boolean(False, doc=\"This boolean is going to be a button\")\n",
    "    status       = param.String(default=\"Nothing\", doc=\"A string\")\n",
    "    \n",
    "    @param.depends('button',watch=True)\n",
    "    def open_file(self):\n",
    "        # This doesn't work\n",
    "        if self.button:\n",
    "            self.status = 'Open file: %s' % self.single_file\n",
    "        \n",
    "    \n",
    "fs = FileSelector()\n",
    "pn.Param(fs,widgets={'button':{'type':pn.widgets.Toggle,'name':'Open','button_type':'success'}})"
   ]
  },
  {
   "cell_type": "markdown",
   "metadata": {},
   "source": [
    "# END"
   ]
  }
 ],
 "metadata": {
  "kernelspec": {
   "display_name": "Python 3",
   "language": "python",
   "name": "python3"
  },
  "language_info": {
   "codemirror_mode": {
    "name": "ipython",
    "version": 3
   },
   "file_extension": ".py",
   "mimetype": "text/x-python",
   "name": "python",
   "nbconvert_exporter": "python",
   "pygments_lexer": "ipython3",
   "version": "3.7.7"
  }
 },
 "nbformat": 4,
 "nbformat_minor": 4
}
